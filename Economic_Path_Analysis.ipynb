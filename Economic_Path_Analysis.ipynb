{
 "cells": [
  {
   "cell_type": "markdown",
   "id": "1b78fbba-e586-4d19-b7cb-c523ec0905cc",
   "metadata": {},
   "source": [
    "# Economic Path Analysis\n",
    "### Hugo Norrby & William Wahlberg"
   ]
  },
  {
   "cell_type": "code",
   "execution_count": null,
   "id": "e36ecf5f-bf47-4e4a-8b01-82b48df1a330",
   "metadata": {},
   "outputs": [],
   "source": []
  }
 ],
 "metadata": {
  "kernelspec": {
   "display_name": "Python 3 (ipykernel)",
   "language": "python",
   "name": "python3"
  },
  "language_info": {
   "codemirror_mode": {
    "name": "ipython",
    "version": 3
   },
   "file_extension": ".py",
   "mimetype": "text/x-python",
   "name": "python",
   "nbconvert_exporter": "python",
   "pygments_lexer": "ipython3",
   "version": "3.11.5"
  }
 },
 "nbformat": 4,
 "nbformat_minor": 5
}
